{
 "cells": [
  {
   "cell_type": "code",
   "execution_count": 2,
   "metadata": {},
   "outputs": [
    {
     "name": "stderr",
     "output_type": "stream",
     "text": [
      "c:\\Users\\nelso\\AppData\\Local\\Programs\\Python\\Python39\\lib\\site-packages\\numpy\\_distributor_init.py:30: UserWarning: loaded more than 1 DLL from .libs:\n",
      "c:\\Users\\nelso\\AppData\\Local\\Programs\\Python\\Python39\\lib\\site-packages\\numpy\\.libs\\libopenblas.EL2C6PLE4ZYW3ECEVIV3OXXGRN2NRFM2.gfortran-win_amd64.dll\n",
      "c:\\Users\\nelso\\AppData\\Local\\Programs\\Python\\Python39\\lib\\site-packages\\numpy\\.libs\\libopenblas.WCDJNK7YVMPZQ2ME2ZZHJJRJ3JIKNDB7.gfortran-win_amd64.dll\n",
      "  warnings.warn(\"loaded more than 1 DLL from .libs:\"\n"
     ]
    }
   ],
   "source": [
    "import pandas as pd\n",
    "import numpy as np\n",
    "from matplotlib import pyplot as plt\n",
    "import seaborn as sns\n",
    "from sklearn import preprocessing\n",
    "from sklearn.model_selection import train_test_split, GridSearchCV, RandomizedSearchCV, StratifiedKFold, KFold, cross_val_score\n",
    "from sklearn.metrics import mean_squared_error, mean_absolute_error, get_scorer\n",
    "from sklearn.linear_model import LinearRegression, LassoCV\n",
    "from sklearn.svm import SVR\n",
    "from sklearn import linear_model\n",
    "import datetime as dt\n",
    "from sklearn.preprocessing import PolynomialFeatures, StandardScaler\n",
    "from sklearn.pipeline import Pipeline\n",
    "\n",
    "from utilities import statistics_utility as stats\n"
   ]
  },
  {
   "cell_type": "code",
   "execution_count": 3,
   "metadata": {},
   "outputs": [],
   "source": [
    "# weatherfootdata = pd.read_csv(\"./data_files/FootTrafficWeather_July2022_Melbourne.csv\")\n",
    "#weatherfootdata = pd.read_csv(\"./data_files/FootTrafficWeatherMelb2_20130101_20220701_v3.csv\")\n",
    "weatherfootdata = pd.read_csv(\"./data_files/FootTrafficWeatherMelb3_20130101_20220701.csv\")"
   ]
  },
  {
   "cell_type": "code",
   "execution_count": 5,
   "metadata": {},
   "outputs": [
    {
     "name": "stdout",
     "output_type": "stream",
     "text": [
      "Basic Summary Statistics of Total People - total_people:\n",
      "  Records: 3499\n",
      "  Null Records: 0   Zero Records: 0\n",
      "  Min: 10309.0   Max: 1151467.0\n",
      "  Mean: 481666.6893398114   Median: 490185.0\n",
      "  Standard Deviation:209496.17609257743\n",
      "Quantile Statistics:\n",
      "  Q1: 318387.0   Q3: 641384.0   IQR: 322997.0\n",
      "  Lower Fence: -166108.5   Upper Fence: 1125879.5\n",
      "Outlier Counts:\n",
      "  Lower Outliers: 0   Upper Outliers: 1\n",
      "  Total Outliers: 1\n"
     ]
    },
    {
     "data": {
      "image/png": "[encoded data removed]",
      "text/plain": [
       "<Figure size 432x288 with 1 Axes>"
      ]
     },
     "metadata": {
      "needs_background": "light"
     },
     "output_type": "display_data"
    },
    {
     "data": {
      "image/png": "[encoded data removed]",
      "text/plain": [
       "<Figure size 432x288 with 1 Axes>"
      ]
     },
     "metadata": {
      "needs_background": "light"
     },
     "output_type": "display_data"
    },
    {
     "data": {
      "image/png": "[encoded data removed]",
      "text/plain": [
       "<Figure size 432x288 with 1 Axes>"
      ]
     },
     "metadata": {
      "needs_background": "light"
     },
     "output_type": "display_data"
    }
   ],
   "source": [
    "stats.print_stats_and_outliers(weatherfootdata[\"total_people\"], \"total_people\", \"Total People\")"
   ]
  },
  {
   "cell_type": "code",
   "execution_count": null,
   "id": "2c2209d7",
   "metadata": {},
   "outputs": [],
   "source": [
    "weatherfootdata"
   ]
  },
  {
   "cell_type": "code",
   "execution_count": null,
   "id": "3cfa2d19",
   "metadata": {},
   "outputs": [],
   "source": [
    "plt.figure(figsize=(20,10))\n",
    "i=1\n",
    "for col in weatherfootdata.columns:\n",
    "    if col != 'date':\n",
    "        if weatherfootdata[col].dtypes == np.int64 or weatherfootdata[col].dtypes == np.float64 and col != 'total_people':\n",
    "            plt.subplot(2,3,i)\n",
    "            sns.scatterplot(x=col , y = 'total_people', data = weatherfootdata, palette=\"Purples\")\n",
    "            i = i+1\n",
    "            plt.title(col)\n",
    "\n",
    "plt.xticks(rotation='vertical')\n",
    "plt.show()"
   ]
  },
  {
   "cell_type": "code",
   "execution_count": null,
   "metadata": {},
   "outputs": [],
   "source": [
    "le = preprocessing.LabelEncoder()\n",
    "weatherfootdata['rain_quality']=le.fit_transform(weatherfootdata['rain_quality'])\n",
    "weatherfootdata['max_temp_quality']=le.fit_transform(weatherfootdata['max_temp_quality'])\n",
    "weatherfootdata['min_temp_quality']=le.fit_transform(weatherfootdata['min_temp_quality'])\n",
    "weatherfootdata['solar_exp']=le.fit_transform(weatherfootdata['solar_exp'])\n",
    "\n",
    "\n",
    "weatherfootdata['date'] = pd.to_datetime(weatherfootdata['date'])\n",
    "weatherfootdata['date']=weatherfootdata['date'].map(dt.datetime.toordinal)\n",
    "weatherfootdata = weatherfootdata[weatherfootdata[\"total_rain\"].notna()]\n",
    "weatherfootdata = weatherfootdata[weatherfootdata[\"max_temp\"].notna()]\n",
    "weatherfootdata = weatherfootdata[weatherfootdata[\"min_temp\"].notna()]\n",
    "weatherfootdata"
   ]
  },
  {
   "cell_type": "code",
   "execution_count": null,
   "metadata": {},
   "outputs": [],
   "source": [
    "weatherfootdata.info()"
   ]
  },
  {
   "cell_type": "code",
   "execution_count": null,
   "metadata": {},
   "outputs": [],
   "source": [
    "weatherfootdata"
   ]
  },
  {
   "cell_type": "code",
   "execution_count": null,
   "id": "f24993c2",
   "metadata": {},
   "outputs": [],
   "source": [
    "y = weatherfootdata['total_people']\n",
    "x = weatherfootdata[['date','total_rain', 'rain_quality', 'max_temp',\n",
    "       'max_temp_quality', 'min_temp', 'min_temp_quality', 'solar_exp',\n",
    "       'WeekDay', 'population_annual', 'population_change_annual']]"
   ]
  },
  {
   "cell_type": "code",
   "execution_count": null,
   "metadata": {},
   "outputs": [],
   "source": [
    "weatherfootdata.columns"
   ]
  },
  {
   "cell_type": "code",
   "execution_count": null,
   "metadata": {},
   "outputs": [],
   "source": [
    "X_train, X_test, y_train, y_test = train_test_split(x, y, test_size=0.30, random_state=2)"
   ]
  },
  {
   "cell_type": "code",
   "execution_count": null,
   "metadata": {},
   "outputs": [],
   "source": [
    "# Linear Regression\n",
    "lr = LinearRegression()\n",
    "lr.fit(X_train,y_train)\n",
    "# Predicting the Salary for the Test values\n",
    "y_pred = lr.predict(X_test)\n",
    "c = [i for i in range (1,len(y_test)+1,1)]\n",
    "plt.plot(c,y_test,color='r',linestyle='-')\n",
    "plt.plot(c,y_pred,color='b',linestyle='--') \n",
    "plt.title('Prediction')\n",
    "plt.xlabel('All Records')\n",
    "plt.ylabel('Total People Detected')\n",
    "plt.show()"
   ]
  },
  {
   "cell_type": "code",
   "execution_count": null,
   "metadata": {},
   "outputs": [],
   "source": [
    "error_values = [i for i in range(1,len(y_test)+1,1)]\n",
    "error_margin = y_test - y_pred\n",
    "plt.plot(error_values, error_margin, color='green', linestyle='-')\n",
    "plt.title('Error Value')\n",
    "plt.ylabel('Error')\n",
    "plt.show()"
   ]
  },
  {
   "cell_type": "code",
   "execution_count": null,
   "metadata": {},
   "outputs": [],
   "source": [
    "print(\"RMSE\",np.log(np.sqrt(mean_squared_error(y_test,y_pred))))\n",
    "print(\"MAE\",mean_absolute_error(y_test,y_pred))"
   ]
  },
  {
   "cell_type": "code",
   "execution_count": null,
   "metadata": {},
   "outputs": [],
   "source": [
    "# Done on v3 of data\n",
    "models = [LinearRegression(), linear_model.Lasso(alpha=0.1, max_iter=10000), SVR()]\n",
    "cv = KFold(n_splits=5)\n",
    "names = [\"Linear Regression\", \"Lasso Regression\", \"Support Vector Regression\"]\n",
    "for model, name in zip(models, names):\n",
    "    print(name)\n",
    "    for score in [\"neg_mean_absolute_error\", \"neg_root_mean_squared_error\"]:\n",
    "        print (score, names),\n",
    "        print (cross_val_score(model, x, y, scoring=score, cv=cv).max())"
   ]
  },
  {
   "cell_type": "code",
   "execution_count": null,
   "metadata": {},
   "outputs": [],
   "source": [
    "alphas = np.linspace(0.01,500,100)\n",
    "lasso = linear_model.Lasso(max_iter=10000)\n",
    "coefs = []\n",
    "\n",
    "for a in alphas:\n",
    "    lasso.set_params(alpha=a)\n",
    "    lasso.fit(X_train, y_train)\n",
    "    coefs.append(lasso.coef_)\n",
    "\n",
    "ax = plt.gca()\n",
    "\n",
    "ax.plot(alphas, coefs)\n",
    "ax.set_xscale('log')\n",
    "plt.axis('tight')\n",
    "plt.xlabel('alpha')\n",
    "plt.ylabel('Standardized Coefficients')\n",
    "plt.title('Lasso coefficients as a function of alpha');"
   ]
  },
  {
   "cell_type": "code",
   "execution_count": null,
   "metadata": {},
   "outputs": [],
   "source": [
    "# Lasso with 5 fold cross-validation\n",
    "model = LassoCV(cv=5, random_state=0, max_iter=10000)\n",
    "\n",
    "# Fit model\n",
    "model.fit(X_train, y_train)\n",
    "LassoCV(cv=5, max_iter=10000, random_state=0)\n",
    "\n",
    "# Set best alpha\n",
    "lasso_best = linear_model.Lasso(alpha=model.alpha_)\n",
    "print(\"Best Value Of Alpha: \", lasso_best.fit(X_train, y_train))\n",
    "print(list(zip(lasso_best.coef_, x)))"
   ]
  },
  {
   "cell_type": "code",
   "execution_count": null,
   "metadata": {},
   "outputs": [],
   "source": [
    "# polynomial features added, end results prove to be worst\n",
    "\n",
    "poly = PolynomialFeatures(degree = 2, include_bias = False, interaction_only = False)\n",
    "X_train_poly = poly.fit_transform(X_train)\n",
    "polynomial_column_names = poly.get_feature_names(input_features = X_train.columns)\n",
    "X_train_poly = pd.DataFrame(data = X_train_poly, columns = polynomial_column_names )\n",
    "X_train_poly.columns = X_train_poly.columns.str.replace(' ', '_')\n",
    "X_train_poly.columns = X_train_poly.columns.str.replace('^', '_')"
   ]
  },
  {
   "cell_type": "code",
   "execution_count": null,
   "metadata": {},
   "outputs": [],
   "source": [
    "sc = StandardScaler()\n",
    "X_train_poly_scaled = sc.fit_transform(X_train_poly)\n",
    "X_train_poly_scaled = pd.DataFrame(data = X_train_poly_scaled, columns = X_train_poly.columns)\n",
    "X_test_poly = poly.transform(X_test)\n",
    "X_test_poly_scaled = sc.transform(X_test_poly)"
   ]
  },
  {
   "cell_type": "code",
   "execution_count": null,
   "metadata": {},
   "outputs": [],
   "source": [
    "lasso_params = {'fit__alpha':[0.005, 0.01, 0.03, 0.05, 0.1, 0.5]}\n",
    "ridge_params = {'fit__alpha':[500, 550, 580, 600, 620, 650, 800]}\n",
    "\n",
    "pipe1 = Pipeline([('poly', PolynomialFeatures()),\n",
    "                 ('fit', linear_model.Lasso())])\n",
    "pipe2 = Pipeline([('poly', PolynomialFeatures()),\n",
    "                 ('fit', linear_model.Ridge())])\n",
    "\n",
    "models3 = {'Lasso': GridSearchCV(pipe1, param_grid=lasso_params).fit(x,y).best_estimator_ ,\n",
    "           'Ridge': GridSearchCV(pipe2, param_grid=ridge_params).fit(x,y).best_estimator_,}"
   ]
  },
  {
   "cell_type": "code",
   "execution_count": null,
   "metadata": {},
   "outputs": [],
   "source": [
    "models3"
   ]
  },
  {
   "cell_type": "code",
   "execution_count": null,
   "metadata": {},
   "outputs": [],
   "source": [
    "from sklearn.metrics import mean_squared_error\n",
    "models = [linear_model.Lasso(alpha=0.005), linear_model.Ridge(alpha=650)]\n",
    "cv = KFold(n_splits=5)\n",
    "names = [\"Lasso Regression\", \"Ridge Regression\"]\n",
    "for model, name in zip(models, names):\n",
    "    model.fit(X_train_poly_scaled, y_train)\n",
    "    y_pred = model.predict(X_test_poly_scaled)\n",
    "    mse = mean_squared_error(y_pred, y_test)\n",
    "    print(mse)\n",
    "\n",
    "    # POLYNOMIAL FEATURING DOES NOT IMPROVE RESULTS"
   ]
  },
  {
   "cell_type": "code",
   "execution_count": null,
   "metadata": {},
   "outputs": [],
   "source": [
    "# Done on v3 of data\n",
    "models = [LinearRegression(), linear_model.Lasso(max_iter=10000), SVR()]\n",
    "cv = KFold(n_splits=5)\n",
    "names = [\"Linear Regression\", \"Lasso Regression\", \"Support Vector Regression\"]\n",
    "for model, name in zip(models, names):\n",
    "    print(name)\n",
    "    for score in [\"neg_mean_absolute_error\", \"neg_root_mean_squared_error\"]:\n",
    "        print (score, names),\n",
    "        print (cross_val_score(model, x, y, scoring=score, cv=cv).max())"
   ]
  },
  {
   "cell_type": "code",
   "execution_count": null,
   "metadata": {},
   "outputs": [],
   "source": []
  }
 ],
 "metadata": {
  "kernelspec": {
   "display_name": "Python 3.9.5 64-bit",
   "language": "python",
   "name": "python3"
  },
  "language_info": {
   "codemirror_mode": {
    "name": "ipython",
    "version": 3
   },
   "file_extension": ".py",
   "mimetype": "text/x-python",
   "name": "python",
   "nbconvert_exporter": "python",
   "pygments_lexer": "ipython3",
   "version": "3.9.5"
  },
  "orig_nbformat": 4,
  "vscode": {
   "interpreter": {
    "hash": "dcbc78149e46ccbab92a3f68a48c52feb0796c7e10dad8e3f1a2a5a780973376"
   }
  }
 },
 "nbformat": 4,
 "nbformat_minor": 2
}
