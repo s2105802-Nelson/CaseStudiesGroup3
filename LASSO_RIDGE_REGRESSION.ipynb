{
 "cells": [
  {
   "cell_type": "code",
   "execution_count": 1,
   "metadata": {},
   "outputs": [],
   "source": [
    "import pandas as pd\n",
    "import numpy as np\n",
    "import math\n",
    "from matplotlib import pyplot as plt\n",
    "import seaborn as sns\n",
    "from sklearn import preprocessing\n",
    "from sklearn.model_selection import train_test_split, GridSearchCV, RandomizedSearchCV, StratifiedKFold, KFold, cross_val_score\n",
    "from sklearn.metrics import mean_squared_error, mean_absolute_error, get_scorer, make_scorer\n",
    "from sklearn.linear_model import LinearRegression, LassoCV\n",
    "from sklearn.svm import SVR\n",
    "from sklearn import linear_model\n",
    "import datetime as dt\n",
    "from sklearn.preprocessing import PolynomialFeatures, StandardScaler\n",
    "from sklearn.pipeline import Pipeline\n",
    "from sklearn.linear_model import RidgeCV"
   ]
  },
  {
   "cell_type": "code",
   "execution_count": 2,
   "metadata": {},
   "outputs": [],
   "source": [
    "weatherfootdata = pd.read_csv(\"./data_files/FootTrafficWeatherMelb2_20130101_20220701_v3.csv\")"
   ]
  },
  {
   "cell_type": "code",
   "execution_count": 3,
   "metadata": {},
   "outputs": [
    {
     "data": {
      "text/html": [
       "<div>\n",
       "<style scoped>\n",
       "    .dataframe tbody tr th:only-of-type {\n",
       "        vertical-align: middle;\n",
       "    }\n",
       "\n",
       "    .dataframe tbody tr th {\n",
       "        vertical-align: top;\n",
       "    }\n",
       "\n",
       "    .dataframe thead th {\n",
       "        text-align: right;\n",
       "    }\n",
       "</style>\n",
       "<table border=\"1\" class=\"dataframe\">\n",
       "  <thead>\n",
       "    <tr style=\"text-align: right;\">\n",
       "      <th></th>\n",
       "      <th>date</th>\n",
       "      <th>total_people</th>\n",
       "      <th>total_rain</th>\n",
       "      <th>rain_quality</th>\n",
       "      <th>max_temp</th>\n",
       "      <th>max_temp_quality</th>\n",
       "      <th>min_temp</th>\n",
       "      <th>min_temp_quality</th>\n",
       "      <th>solar_exp</th>\n",
       "      <th>WeekDay</th>\n",
       "      <th>population_annual</th>\n",
       "      <th>population_change_annual</th>\n",
       "      <th>is_holiday</th>\n",
       "      <th>is_lockdown</th>\n",
       "      <th>OfflineRetail_Original_Turnover</th>\n",
       "      <th>OfflineRetail_Seasonally_Adjusted_Turnover</th>\n",
       "      <th>OfflineRetail_Trend_Turnover</th>\n",
       "    </tr>\n",
       "  </thead>\n",
       "  <tbody>\n",
       "    <tr>\n",
       "      <th>0</th>\n",
       "      <td>738367</td>\n",
       "      <td>327383.0</td>\n",
       "      <td>0.0</td>\n",
       "      <td>0</td>\n",
       "      <td>14.7</td>\n",
       "      <td>1</td>\n",
       "      <td>4.3</td>\n",
       "      <td>1</td>\n",
       "      <td>34</td>\n",
       "      <td>6</td>\n",
       "      <td>5151000</td>\n",
       "      <td>1.78</td>\n",
       "      <td>NaN</td>\n",
       "      <td>NaN</td>\n",
       "      <td>8562.7</td>\n",
       "      <td>8947.3</td>\n",
       "      <td>NaN</td>\n",
       "    </tr>\n",
       "    <tr>\n",
       "      <th>1</th>\n",
       "      <td>738366</td>\n",
       "      <td>462115.0</td>\n",
       "      <td>0.0</td>\n",
       "      <td>0</td>\n",
       "      <td>13.0</td>\n",
       "      <td>1</td>\n",
       "      <td>2.1</td>\n",
       "      <td>1</td>\n",
       "      <td>99</td>\n",
       "      <td>5</td>\n",
       "      <td>5151000</td>\n",
       "      <td>1.78</td>\n",
       "      <td>NaN</td>\n",
       "      <td>NaN</td>\n",
       "      <td>8562.7</td>\n",
       "      <td>8947.3</td>\n",
       "      <td>NaN</td>\n",
       "    </tr>\n",
       "    <tr>\n",
       "      <th>2</th>\n",
       "      <td>738365</td>\n",
       "      <td>405511.0</td>\n",
       "      <td>1.0</td>\n",
       "      <td>0</td>\n",
       "      <td>12.7</td>\n",
       "      <td>1</td>\n",
       "      <td>6.5</td>\n",
       "      <td>1</td>\n",
       "      <td>98</td>\n",
       "      <td>4</td>\n",
       "      <td>5151000</td>\n",
       "      <td>1.78</td>\n",
       "      <td>NaN</td>\n",
       "      <td>NaN</td>\n",
       "      <td>8562.7</td>\n",
       "      <td>8947.3</td>\n",
       "      <td>NaN</td>\n",
       "    </tr>\n",
       "    <tr>\n",
       "      <th>3</th>\n",
       "      <td>738364</td>\n",
       "      <td>334858.0</td>\n",
       "      <td>1.0</td>\n",
       "      <td>0</td>\n",
       "      <td>13.2</td>\n",
       "      <td>1</td>\n",
       "      <td>9.3</td>\n",
       "      <td>1</td>\n",
       "      <td>79</td>\n",
       "      <td>3</td>\n",
       "      <td>5151000</td>\n",
       "      <td>1.78</td>\n",
       "      <td>NaN</td>\n",
       "      <td>NaN</td>\n",
       "      <td>8562.7</td>\n",
       "      <td>8947.3</td>\n",
       "      <td>NaN</td>\n",
       "    </tr>\n",
       "    <tr>\n",
       "      <th>4</th>\n",
       "      <td>738363</td>\n",
       "      <td>340569.0</td>\n",
       "      <td>3.0</td>\n",
       "      <td>0</td>\n",
       "      <td>15.3</td>\n",
       "      <td>1</td>\n",
       "      <td>9.3</td>\n",
       "      <td>1</td>\n",
       "      <td>63</td>\n",
       "      <td>2</td>\n",
       "      <td>5151000</td>\n",
       "      <td>1.78</td>\n",
       "      <td>NaN</td>\n",
       "      <td>NaN</td>\n",
       "      <td>8562.7</td>\n",
       "      <td>8947.3</td>\n",
       "      <td>NaN</td>\n",
       "    </tr>\n",
       "    <tr>\n",
       "      <th>...</th>\n",
       "      <td>...</td>\n",
       "      <td>...</td>\n",
       "      <td>...</td>\n",
       "      <td>...</td>\n",
       "      <td>...</td>\n",
       "      <td>...</td>\n",
       "      <td>...</td>\n",
       "      <td>...</td>\n",
       "      <td>...</td>\n",
       "      <td>...</td>\n",
       "      <td>...</td>\n",
       "      <td>...</td>\n",
       "      <td>...</td>\n",
       "      <td>...</td>\n",
       "      <td>...</td>\n",
       "      <td>...</td>\n",
       "      <td>...</td>\n",
       "    </tr>\n",
       "    <tr>\n",
       "      <th>3342</th>\n",
       "      <td>735025</td>\n",
       "      <td>263851.0</td>\n",
       "      <td>0.0</td>\n",
       "      <td>0</td>\n",
       "      <td>17.3</td>\n",
       "      <td>1</td>\n",
       "      <td>12.6</td>\n",
       "      <td>1</td>\n",
       "      <td>48</td>\n",
       "      <td>3</td>\n",
       "      <td>4217000</td>\n",
       "      <td>2.50</td>\n",
       "      <td>NaN</td>\n",
       "      <td>NaN</td>\n",
       "      <td>5154.2</td>\n",
       "      <td>5412.4</td>\n",
       "      <td>5411.8</td>\n",
       "    </tr>\n",
       "    <tr>\n",
       "      <th>3343</th>\n",
       "      <td>735024</td>\n",
       "      <td>251066.0</td>\n",
       "      <td>0.0</td>\n",
       "      <td>0</td>\n",
       "      <td>14.6</td>\n",
       "      <td>1</td>\n",
       "      <td>11.9</td>\n",
       "      <td>1</td>\n",
       "      <td>35</td>\n",
       "      <td>2</td>\n",
       "      <td>4217000</td>\n",
       "      <td>2.50</td>\n",
       "      <td>NaN</td>\n",
       "      <td>NaN</td>\n",
       "      <td>5154.2</td>\n",
       "      <td>5412.4</td>\n",
       "      <td>5411.8</td>\n",
       "    </tr>\n",
       "    <tr>\n",
       "      <th>3344</th>\n",
       "      <td>735023</td>\n",
       "      <td>245211.0</td>\n",
       "      <td>0.2</td>\n",
       "      <td>0</td>\n",
       "      <td>15.0</td>\n",
       "      <td>1</td>\n",
       "      <td>11.1</td>\n",
       "      <td>1</td>\n",
       "      <td>24</td>\n",
       "      <td>1</td>\n",
       "      <td>4217000</td>\n",
       "      <td>2.50</td>\n",
       "      <td>NaN</td>\n",
       "      <td>NaN</td>\n",
       "      <td>5154.2</td>\n",
       "      <td>5412.4</td>\n",
       "      <td>5411.8</td>\n",
       "    </tr>\n",
       "    <tr>\n",
       "      <th>3345</th>\n",
       "      <td>735022</td>\n",
       "      <td>238200.0</td>\n",
       "      <td>0.2</td>\n",
       "      <td>0</td>\n",
       "      <td>14.8</td>\n",
       "      <td>1</td>\n",
       "      <td>10.7</td>\n",
       "      <td>1</td>\n",
       "      <td>38</td>\n",
       "      <td>0</td>\n",
       "      <td>4217000</td>\n",
       "      <td>2.50</td>\n",
       "      <td>NaN</td>\n",
       "      <td>NaN</td>\n",
       "      <td>5154.2</td>\n",
       "      <td>5412.4</td>\n",
       "      <td>5411.8</td>\n",
       "    </tr>\n",
       "    <tr>\n",
       "      <th>3346</th>\n",
       "      <td>735021</td>\n",
       "      <td>164982.0</td>\n",
       "      <td>5.0</td>\n",
       "      <td>0</td>\n",
       "      <td>15.7</td>\n",
       "      <td>1</td>\n",
       "      <td>10.4</td>\n",
       "      <td>1</td>\n",
       "      <td>66</td>\n",
       "      <td>6</td>\n",
       "      <td>4217000</td>\n",
       "      <td>2.50</td>\n",
       "      <td>NaN</td>\n",
       "      <td>NaN</td>\n",
       "      <td>5154.2</td>\n",
       "      <td>5412.4</td>\n",
       "      <td>5411.8</td>\n",
       "    </tr>\n",
       "  </tbody>\n",
       "</table>\n",
       "<p>3342 rows × 17 columns</p>\n",
       "</div>"
      ],
      "text/plain": [
       "        date  total_people  total_rain  rain_quality  max_temp  \\\n",
       "0     738367      327383.0         0.0             0      14.7   \n",
       "1     738366      462115.0         0.0             0      13.0   \n",
       "2     738365      405511.0         1.0             0      12.7   \n",
       "3     738364      334858.0         1.0             0      13.2   \n",
       "4     738363      340569.0         3.0             0      15.3   \n",
       "...      ...           ...         ...           ...       ...   \n",
       "3342  735025      263851.0         0.0             0      17.3   \n",
       "3343  735024      251066.0         0.0             0      14.6   \n",
       "3344  735023      245211.0         0.2             0      15.0   \n",
       "3345  735022      238200.0         0.2             0      14.8   \n",
       "3346  735021      164982.0         5.0             0      15.7   \n",
       "\n",
       "      max_temp_quality  min_temp  min_temp_quality  solar_exp  WeekDay  \\\n",
       "0                    1       4.3                 1         34        6   \n",
       "1                    1       2.1                 1         99        5   \n",
       "2                    1       6.5                 1         98        4   \n",
       "3                    1       9.3                 1         79        3   \n",
       "4                    1       9.3                 1         63        2   \n",
       "...                ...       ...               ...        ...      ...   \n",
       "3342                 1      12.6                 1         48        3   \n",
       "3343                 1      11.9                 1         35        2   \n",
       "3344                 1      11.1                 1         24        1   \n",
       "3345                 1      10.7                 1         38        0   \n",
       "3346                 1      10.4                 1         66        6   \n",
       "\n",
       "      population_annual  population_change_annual  is_holiday  is_lockdown  \\\n",
       "0               5151000                      1.78         NaN          NaN   \n",
       "1               5151000                      1.78         NaN          NaN   \n",
       "2               5151000                      1.78         NaN          NaN   \n",
       "3               5151000                      1.78         NaN          NaN   \n",
       "4               5151000                      1.78         NaN          NaN   \n",
       "...                 ...                       ...         ...          ...   \n",
       "3342            4217000                      2.50         NaN          NaN   \n",
       "3343            4217000                      2.50         NaN          NaN   \n",
       "3344            4217000                      2.50         NaN          NaN   \n",
       "3345            4217000                      2.50         NaN          NaN   \n",
       "3346            4217000                      2.50         NaN          NaN   \n",
       "\n",
       "      OfflineRetail_Original_Turnover  \\\n",
       "0                              8562.7   \n",
       "1                              8562.7   \n",
       "2                              8562.7   \n",
       "3                              8562.7   \n",
       "4                              8562.7   \n",
       "...                               ...   \n",
       "3342                           5154.2   \n",
       "3343                           5154.2   \n",
       "3344                           5154.2   \n",
       "3345                           5154.2   \n",
       "3346                           5154.2   \n",
       "\n",
       "      OfflineRetail_Seasonally_Adjusted_Turnover  OfflineRetail_Trend_Turnover  \n",
       "0                                         8947.3                           NaN  \n",
       "1                                         8947.3                           NaN  \n",
       "2                                         8947.3                           NaN  \n",
       "3                                         8947.3                           NaN  \n",
       "4                                         8947.3                           NaN  \n",
       "...                                          ...                           ...  \n",
       "3342                                      5412.4                        5411.8  \n",
       "3343                                      5412.4                        5411.8  \n",
       "3344                                      5412.4                        5411.8  \n",
       "3345                                      5412.4                        5411.8  \n",
       "3346                                      5412.4                        5411.8  \n",
       "\n",
       "[3342 rows x 17 columns]"
      ]
     },
     "execution_count": 3,
     "metadata": {},
     "output_type": "execute_result"
    }
   ],
   "source": [
    "le = preprocessing.LabelEncoder()\n",
    "weatherfootdata['rain_quality']=le.fit_transform(weatherfootdata['rain_quality'])\n",
    "weatherfootdata['max_temp_quality']=le.fit_transform(weatherfootdata['max_temp_quality'])\n",
    "weatherfootdata['min_temp_quality']=le.fit_transform(weatherfootdata['min_temp_quality'])\n",
    "weatherfootdata['solar_exp']=le.fit_transform(weatherfootdata['solar_exp'])\n",
    "weatherfootdata['date'] = pd.to_datetime(weatherfootdata['date'])\n",
    "weatherfootdata['date']=weatherfootdata['date'].map(dt.datetime.toordinal)\n",
    "weatherfootdata = weatherfootdata[weatherfootdata[\"total_rain\"].notna()]\n",
    "weatherfootdata = weatherfootdata[weatherfootdata[\"max_temp\"].notna()]\n",
    "weatherfootdata = weatherfootdata[weatherfootdata[\"min_temp\"].notna()]\n",
    "weatherfootdata"
   ]
  },
  {
   "cell_type": "code",
   "execution_count": 4,
   "id": "f24993c2",
   "metadata": {},
   "outputs": [],
   "source": [
    "y = weatherfootdata['total_people']\n",
    "x = weatherfootdata[['date','total_rain', 'rain_quality', 'max_temp',\n",
    "       'max_temp_quality', 'min_temp', 'min_temp_quality', 'solar_exp',\n",
    "       'WeekDay', 'population_annual', 'population_change_annual']]"
   ]
  },
  {
   "cell_type": "code",
   "execution_count": 5,
   "metadata": {},
   "outputs": [],
   "source": [
    "X_train, X_test, y_train, y_test = train_test_split(x, y, test_size=0.30, random_state=2)"
   ]
  },
  {
   "cell_type": "code",
   "execution_count": 7,
   "metadata": {},
   "outputs": [
    {
     "name": "stdout",
     "output_type": "stream",
     "text": [
      "Linear Regression\n",
      "neg_mean_absolute_error ['Linear Regression', 'Lasso Regression', 'Ridge Regression', 'Support Vector Regression']\n",
      "-214551.01614776446\n",
      "neg_root_mean_squared_error ['Linear Regression', 'Lasso Regression', 'Ridge Regression', 'Support Vector Regression']\n",
      "-241418.54314970103\n",
      "Lasso Regression\n",
      "neg_mean_absolute_error ['Linear Regression', 'Lasso Regression', 'Ridge Regression', 'Support Vector Regression']\n",
      "-214549.18129761488\n",
      "neg_root_mean_squared_error ['Linear Regression', 'Lasso Regression', 'Ridge Regression', 'Support Vector Regression']\n",
      "-241416.08630272685\n",
      "Ridge Regression\n",
      "neg_mean_absolute_error ['Linear Regression', 'Lasso Regression', 'Ridge Regression', 'Support Vector Regression']\n",
      "-213486.79035432506\n",
      "neg_root_mean_squared_error ['Linear Regression', 'Lasso Regression', 'Ridge Regression', 'Support Vector Regression']\n",
      "-240300.21336664297\n",
      "Support Vector Regression\n",
      "neg_mean_absolute_error ['Linear Regression', 'Lasso Regression', 'Ridge Regression', 'Support Vector Regression']\n",
      "-211569.48356112666\n",
      "neg_root_mean_squared_error ['Linear Regression', 'Lasso Regression', 'Ridge Regression', 'Support Vector Regression']\n",
      "-237823.96525906204\n"
     ]
    }
   ],
   "source": [
    "# Done on v3 of data\n",
    "models = [LinearRegression(), linear_model.Lasso(max_iter=10000),  linear_model.Ridge(), SVR()]\n",
    "cv = KFold(n_splits=5)\n",
    "names = [\"Linear Regression\", \"Lasso Regression\", \"Ridge Regression\", \"Support Vector Regression\"]\n",
    "for model, name in zip(models, names):\n",
    "    print(name)\n",
    "    for score in [\"neg_mean_absolute_error\", \"neg_root_mean_squared_error\"]:\n",
    "        print (score, names),\n",
    "        print (cross_val_score(model, x, y, scoring=score, cv=cv).mean())"
   ]
  },
  {
   "cell_type": "code",
   "execution_count": 8,
   "metadata": {},
   "outputs": [
    {
     "name": "stdout",
     "output_type": "stream",
     "text": [
      "{'C': 10, 'epsilon': 0.1, 'gamma': 1e-07}\n"
     ]
    }
   ],
   "source": [
    "parameters = {'C':[1.5, 5, 10],'gamma': [1e-7, 1e-4],'epsilon':[0.1,0.2,0.5,0.3]}\n",
    "model = SVR()\n",
    "grid = GridSearchCV(estimator=model, param_grid=parameters, scoring = 'neg_root_mean_squared_error',cv=3, verbose=1)\n",
    "grid.fit(X_train, y_train)\n",
    "print(grid.best_score_)\n",
    "print(grid.best_params_)"
   ]
  },
  {
   "cell_type": "code",
   "execution_count": 12,
   "metadata": {},
   "outputs": [
    {
     "name": "stdout",
     "output_type": "stream",
     "text": [
      "Fitting 3 folds for each of 10 candidates, totalling 30 fits\n"
     ]
    }
   ],
   "source": [
    "parameters = {'kernel': ('linear', 'rbf','poly'), 'C':[1.5, 5, 10],'gamma': [1e-7, 1e-4],'epsilon':[0.1,0.2,0.5,0.3]}\n",
    "model = SVR()\n",
    "grid = RandomizedSearchCV(model, parameters, scoring = 'neg_root_mean_squared_error',cv=3, verbose=1)\n",
    "grid.fit(X_train, y_train)\n",
    "print(grid.best_score_)\n",
    "print(grid.best_params_)"
   ]
  },
  {
   "cell_type": "code",
   "execution_count": 15,
   "metadata": {},
   "outputs": [
    {
     "name": "stdout",
     "output_type": "stream",
     "text": [
      "5.0\n",
      "-174650.87527290004\n"
     ]
    }
   ],
   "source": [
    "# Lasso \n",
    "cv = KFold(n_splits=5)\n",
    "alphas = np.array([5, 0.5, 0.05, 0.005, 0.0005, 1, 0.1, 0.01,0.001, 0.0001])\n",
    "model = linear_model.Lasso(max_iter=100000)\n",
    "grid = GridSearchCV(estimator=model, param_grid=dict(alpha=alphas), scoring = 'neg_root_mean_squared_error',cv=cv)\n",
    "grid.fit(X_train, y_train)\n",
    "print(grid.best_estimator_.alpha)\n",
    "print(grid.best_score_)"
   ]
  },
  {
   "cell_type": "code",
   "execution_count": 16,
   "metadata": {},
   "outputs": [
    {
     "name": "stdout",
     "output_type": "stream",
     "text": [
      "1\n",
      "-174671.7741024637\n"
     ]
    }
   ],
   "source": [
    "# Ridge \n",
    "alphas = np.array([1,2,3,4,5,6,7,8,9,10,20,30,40,50,60,70,100,200])\n",
    "model = linear_model.Ridge()\n",
    "grid = GridSearchCV(estimator=model, param_grid=dict(alpha=alphas), scoring = 'neg_root_mean_squared_error',cv=cv)\n",
    "grid.fit(X_train, y_train)\n",
    "print(grid.best_estimator_.alpha)\n",
    "print(grid.best_score_)"
   ]
  },
  {
   "cell_type": "code",
   "execution_count": 44,
   "metadata": {},
   "outputs": [
    {
     "name": "stdout",
     "output_type": "stream",
     "text": [
      "Best Value Of Alpha:  Ridge(alpha=0.1)\n",
      "[(-203.2542703775633, 'date'), (-1622.046487119943, 'total_rain'), (-3664.116056164092, 'rain_quality'), (13.538947809835216, 'max_temp'), (21765.5502421034, 'max_temp_quality'), (1656.4718275273092, 'min_temp'), (10752.57707175582, 'min_temp_quality'), (318.95197558348906, 'solar_exp'), (-4334.046504218691, 'WeekDay'), (1.228861943558214, 'population_annual'), (743285.3598379729, 'population_change_annual')]\n"
     ]
    }
   ],
   "source": [
    "# Ridge with 5 fold cross-validation\n",
    "\n",
    "model = RidgeCV(alphas=[1e-3, 1e-2, 1e-1, 1]).fit(X_train, y_train)\n",
    "ridge_best = linear_model.Ridge(alpha=model.alpha_)\n",
    "print(\"Best Value Of Alpha: \", ridge_best.fit(X_train, y_train))\n",
    "print(list(zip(ridge_best.coef_, x)))"
   ]
  },
  {
   "cell_type": "code",
   "execution_count": 13,
   "metadata": {},
   "outputs": [
    {
     "name": "stdout",
     "output_type": "stream",
     "text": [
      "-175034.96858123943\n",
      "{'alpha': 1, 'fit_intercept': True, 'solver': 'svd'}\n"
     ]
    }
   ],
   "source": [
    "# Best Value of Alpha for Ridge \n",
    "cv = KFold(n_splits=5)\n",
    "params_Ridge = {'alpha': [1,0.1,0.01,0.001,0.0001,0], \n",
    "                \"fit_intercept\": [True, False], \n",
    "                \"solver\": ['svd', 'cholesky', 'lsqr', 'sparse_cg', 'sag', 'saga']}\n",
    "\n",
    "model = linear_model.Ridge()\n",
    "grid = GridSearchCV(estimator=model, param_grid=params_Ridge, scoring = 'neg_root_mean_squared_error',cv=cv)\n",
    "grid.fit(X_train, y_train)\n",
    "print(grid.best_score_)\n",
    "print(grid.best_params_)"
   ]
  },
  {
   "cell_type": "code",
   "execution_count": 19,
   "metadata": {},
   "outputs": [
    {
     "name": "stdout",
     "output_type": "stream",
     "text": [
      "0, train 30104817610, test 27852424187\n",
      "1, train 30110325324, test 27837330675\n",
      "10, train 30473451159, test 28116495263\n",
      "50, train 33029015091, test 30575715281\n",
      "100, train 35009280182, test 32522027638\n",
      "200, train 36859762156, test 34347724953\n",
      "500, train 38542808111, test 36008188259\n"
     ]
    },
    {
     "data": {
      "image/png": "[encoded data removed]",
      "text/plain": [
       "<Figure size 432x288 with 1 Axes>"
      ]
     },
     "metadata": {
      "needs_background": "light"
     },
     "output_type": "display_data"
    }
   ],
   "source": [
    "# the model is shown to overfit the training dataset at the cost of worse performance on the holdout dataset.\n",
    "\n",
    "train_scores, test_scores = list(), list()\n",
    "values = [0,1,10,50,100,200,500]\n",
    "for i in values:\n",
    "\tmodel = linear_model.Ridge(alpha=i,solver='svd')\n",
    "\tmodel.fit(X_train, y_train)\n",
    "\ttrain_yhat = model.predict(X_train)\n",
    "\ttrain_mse = mean_squared_error(y_train, train_yhat)\n",
    "\ttrain_scores.append(train_mse)\n",
    "\ttest_yhat = model.predict(X_test)\n",
    "\ttest_mse = mean_squared_error(y_test, test_yhat)\n",
    "\ttest_scores.append(test_mse)\n",
    "\tprint('%d, train %d, test %d' % (i, train_mse, test_mse))\n",
    "plt.plot(values, train_scores, '-o', label='Train')\n",
    "plt.plot(values, test_scores, '-o', label='Test')\n",
    "plt.legend()\n",
    "plt.show()"
   ]
  },
  {
   "cell_type": "code",
   "execution_count": 37,
   "metadata": {},
   "outputs": [
    {
     "data": {
      "text/plain": [
       "160524.52186815572"
      ]
     },
     "execution_count": 37,
     "metadata": {},
     "output_type": "execute_result"
    }
   ],
   "source": [
    "math.sqrt(25768122121)"
   ]
  }
 ],
 "metadata": {
  "kernelspec": {
   "display_name": "Python 3.8.8 ('base')",
   "language": "python",
   "name": "python3"
  },
  "language_info": {
   "codemirror_mode": {
    "name": "ipython",
    "version": 3
   },
   "file_extension": ".py",
   "mimetype": "text/x-python",
   "name": "python",
   "nbconvert_exporter": "python",
   "pygments_lexer": "ipython3",
   "version": "3.8.8"
  },
  "orig_nbformat": 4,
  "vscode": {
   "interpreter": {
    "hash": "e658783c2fce523184d17ad0bd92cc44f942eaa3532bc912ae3ae8acdc5c73ec"
   }
  }
 },
 "nbformat": 4,
 "nbformat_minor": 2
}
